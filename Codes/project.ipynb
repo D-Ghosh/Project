{
 "cells": [
  {
   "cell_type": "code",
   "execution_count": 12,
   "metadata": {},
   "outputs": [],
   "source": [
    "import sympy as sm\n",
    "import qutip as qt\n",
    "import scipy as sp\n",
    "import numpy as np\n",
    "import matplotlib.pyplot as plt\n",
    "from scipy.integrate import trapezoid\n",
    "\n",
    "plt.rcParams.update({\n",
    "    \"text.usetex\": True,\n",
    "    \"font.size\" : 24})"
   ]
  },
  {
   "cell_type": "markdown",
   "metadata": {},
   "source": [
    "## Eq(43)"
   ]
  },
  {
   "cell_type": "code",
   "execution_count": 25,
   "metadata": {},
   "outputs": [
    {
     "data": {
      "text/latex": [
       "$\\displaystyle j = - \\frac{4 \\Omega^{2} \\gamma}{\\gamma^{2} \\left(2 N_{tilde} + 1\\right)^{2} + 4 \\left(\\Delta^{2} + 2 \\Omega^{2}\\right)}$"
      ],
      "text/plain": [
       "Eq(j, -4*Omega**2*gamma/(gamma**2*(2*N_tilde + 1)**2 + 4*(Delta**2 + 2*Omega**2)))"
      ]
     },
     "execution_count": 25,
     "metadata": {},
     "output_type": "execute_result"
    }
   ],
   "source": [
    "# Define density matrix elements\n",
    "rho_ee, rho_eg, rho_ge, rho_gg = sm.symbols('rho_ee, rho_eg, rho_ge, rho_gg')\n",
    "\n",
    "\n",
    "# Define the density matrix\n",
    "rho = sm.Matrix([[rho_ee, rho_eg], [rho_ge, rho_gg]])\n",
    "\n",
    "# Define the imaginary unit\n",
    "i = sm.I\n",
    "\n",
    "# Define the Pauli matrices and other operators as before\n",
    "sigma_x = sm.Matrix([[0, 1], [1, 0]])\n",
    "sigma_y = sm.Matrix([[0, -i], [i, 0]])\n",
    "sigma_plus = sm.Rational(1, 2) * (sigma_x + i * sigma_y)\n",
    "sigma_minus = sm.Rational(1, 2) * (sigma_x - i * sigma_y)\n",
    "\n",
    "# Define symbols for N tilde and gamma\n",
    "N_tilde = sm.symbols('N_tilde', real=True, positive=True)  # N tilde\n",
    "gamma = sm.symbols('gamma', real=True, positive=True)      # gamma\n",
    "\n",
    "# Define D_rho expression\n",
    "D_rho = (gamma * (N_tilde + 1) * (sigma_minus * rho * sigma_plus - \n",
    "           sm.Rational(1, 2) * (sigma_plus * sigma_minus * rho + rho * sigma_plus * sigma_minus)) + \n",
    "           gamma * N_tilde * (sigma_plus * rho * sigma_minus - \n",
    "           sm.Rational(1, 2) * (sigma_minus * sigma_plus * rho + rho * sigma_minus * sigma_plus)))\n",
    "\n",
    "D_rho_epr = sm.simplify(D_rho)\n",
    "\n",
    "# Define the Pauli Z matrix (sigma_z)\n",
    "sigma_z = sm.Matrix([[1, 0], [0, -1]])\n",
    "\n",
    "# Define delta and omega as symbolic variables\n",
    "Delta = sm.symbols('Delta', real=True, positive=True)\n",
    "Omega = sm.symbols('Omega', real=True, positive=True)\n",
    "\n",
    "# Define the Hamiltonian\n",
    "H = sm.Rational(1, 2) * Delta * sigma_z + Omega * (sigma_plus + sigma_minus)\n",
    "\n",
    "# Define the commutator of the Hamiltonian with the density matrix\n",
    "H_rho_comutator = H * rho - rho * H.H\n",
    "\n",
    "rho_evalution_expr = -i * H_rho_comutator + D_rho\n",
    "\n",
    "rho_valid = sm.Eq((rho_ee + rho_gg), 1)\n",
    "\n",
    "eq = sm.Eq(rho_evalution_expr, sm.zeros(2))\n",
    "\n",
    "sol = sm.solve((eq, rho_valid), (rho_ee, rho_eg, rho_ge, rho_gg))\n",
    "\n",
    "rho_eess = list(sol.values())[0]\n",
    "\n",
    "J = gamma * (N_tilde - (2 * N_tilde + 1) * rho_eess)\n",
    "\n",
    "J_s = J.simplify()\n",
    "J_s0 = sm.fraction(J_s)[0]\n",
    "J_s1 = sm.fraction(J_s)[1]\n",
    "colect_expr = sm.collect(J_s1, gamma)\n",
    "J_s1_s = sm.factor(colect_expr.coeff(gamma, 2)) * gamma**2 + sm.factor(colect_expr.coeff(gamma, 0))\n",
    "\n",
    "J_S = J_s0 / J_s1_s\n",
    "j = sm.symbols('j')\n",
    "sm.Eq(j, J_S)"
   ]
  },
  {
   "cell_type": "markdown",
   "metadata": {},
   "source": [
    "### Eq. 138"
   ]
  },
  {
   "cell_type": "code",
   "execution_count": 3,
   "metadata": {},
   "outputs": [
    {
     "data": {
      "text/latex": [
       "$\\displaystyle - \\frac{\\gamma_{L}}{2} - \\frac{\\gamma_{R}}{2} + \\sqrt{\\gamma_{L} \\gamma_{R} \\left(f_{L} f_{R bar} \\left(-1 + e^{- i \\chi}\\right) + f_{L bar} f_{R} \\left(e^{i \\chi} - 1\\right)\\right) + \\left(\\frac{\\gamma_{L}}{2} + \\frac{\\gamma_{R}}{2}\\right)^{2}}$"
      ],
      "text/plain": [
       "-gamma_L/2 - gamma_R/2 + sqrt(gamma_L*gamma_R*(f_L*f_R_bar*(-1 + exp(-I*chi)) + f_L_bar*f_R*(exp(I*chi) - 1)) + (gamma_L/2 + gamma_R/2)**2)"
      ]
     },
     "execution_count": 3,
     "metadata": {},
     "output_type": "execute_result"
    }
   ],
   "source": [
    "gamma_L, gamma_R, chi, f_R_bar, f_R, f_L_bar, f_L = sm.symbols('gamma_L, gamma_R, chi, f_R_bar, f_R, f_L_bar, f_L')\n",
    "\n",
    "eq_L = -(gamma_L + gamma_R)/2 + sm.sqrt(((gamma_L + gamma_R)/2)**2 + gamma_L * gamma_R * ((sm.exp(i * chi) - 1) * f_R * f_L_bar + (sm.exp(-i * chi) - 1) * f_L * f_R_bar))\n",
    "eq_L"
   ]
  },
  {
   "cell_type": "code",
   "execution_count": 4,
   "metadata": {},
   "outputs": [
    {
     "data": {
      "text/latex": [
       "$\\displaystyle \\frac{\\gamma_{L} \\gamma_{R} \\left(- 2 \\gamma_{L} \\gamma_{R} \\left(f_{L} f_{R bar} - f_{L bar} f_{R}\\right)^{2} + \\left(\\gamma_{L} + \\gamma_{R}\\right)^{2} \\left(f_{L} f_{R bar} + f_{L bar} f_{R}\\right)\\right)}{\\left(\\gamma_{L} + \\gamma_{R}\\right)^{2} \\sqrt{\\left(\\gamma_{L} + \\gamma_{R}\\right)^{2}}}$"
      ],
      "text/plain": [
       "gamma_L*gamma_R*(-2*gamma_L*gamma_R*(f_L*f_R_bar - f_L_bar*f_R)**2 + (gamma_L + gamma_R)**2*(f_L*f_R_bar + f_L_bar*f_R))/((gamma_L + gamma_R)**2*sqrt((gamma_L + gamma_R)**2))"
      ]
     },
     "execution_count": 4,
     "metadata": {},
     "output_type": "execute_result"
    }
   ],
   "source": [
    "eq_L_derivative = -1*sm.diff(eq_L, chi, 2)\n",
    "eq_L_derivative.subs(chi, 0).simplify()"
   ]
  },
  {
   "cell_type": "code",
   "execution_count": 5,
   "metadata": {},
   "outputs": [
    {
     "data": {
      "text/latex": [
       "$\\displaystyle \\frac{\\gamma_{L} \\gamma_{R} \\left(\\left(- f_{L} + f_{R}\\right)^{2} \\left(\\gamma_{L}^{2} + \\gamma_{R}^{2}\\right) + \\left(\\gamma_{L} + \\gamma_{R}\\right)^{2} \\left(f_{L} f_{L bar} + f_{R} f_{R bar}\\right)\\right)}{\\left(\\gamma_{L} + \\gamma_{R}\\right)^{3}}$"
      ],
      "text/plain": [
       "gamma_L*gamma_R*((-f_L + f_R)**2*(gamma_L**2 + gamma_R**2) + (gamma_L + gamma_R)**2*(f_L*f_L_bar + f_R*f_R_bar))/(gamma_L + gamma_R)**3"
      ]
     },
     "execution_count": 5,
     "metadata": {},
     "output_type": "execute_result"
    }
   ],
   "source": [
    "eq_L_derivative_subs = eq_L_derivative.subs(chi, 0).simplify()\n",
    "eq_L_derivative_subs_mod = eq_L_derivative_subs.subs([(f_L_bar, 1 - f_L), (f_R_bar, 1 - f_R)])\n",
    "\n",
    "D_L = ((gamma_L * gamma_R)/(gamma_L + gamma_R)**3) * ((gamma_L + gamma_R)**2 * (f_L*f_L_bar + f_R*f_R_bar) + (gamma_L**2 + gamma_R**2) * (f_R - f_L)**2)\n",
    "D_L"
   ]
  },
  {
   "cell_type": "code",
   "execution_count": 6,
   "metadata": {},
   "outputs": [],
   "source": [
    "D_L_mod = D_L.subs([(f_L_bar, 1 - f_L), (f_R_bar, 1 - f_R)])"
   ]
  },
  {
   "cell_type": "code",
   "execution_count": 7,
   "metadata": {},
   "outputs": [
    {
     "data": {
      "text/latex": [
       "$\\displaystyle - \\frac{4722}{125}$"
      ],
      "text/plain": [
       "-4722/125"
      ]
     },
     "execution_count": 7,
     "metadata": {},
     "output_type": "execute_result"
    }
   ],
   "source": [
    "D_L_mod.subs([(gamma_L, 2), (gamma_R, 3), (f_L, 4), (f_R, 5)])"
   ]
  },
  {
   "cell_type": "code",
   "execution_count": 8,
   "metadata": {},
   "outputs": [
    {
     "data": {
      "text/latex": [
       "$\\displaystyle - \\frac{4722}{125}$"
      ],
      "text/plain": [
       "-4722/125"
      ]
     },
     "execution_count": 8,
     "metadata": {},
     "output_type": "execute_result"
    }
   ],
   "source": [
    "eq_L_derivative_subs_mod.subs([(gamma_L, 2), (gamma_R, 3), (f_L, 4), (f_R, 5)])"
   ]
  },
  {
   "cell_type": "markdown",
   "metadata": {},
   "source": [
    "### Eq. 143"
   ]
  },
  {
   "cell_type": "code",
   "execution_count": 9,
   "metadata": {},
   "outputs": [
    {
     "data": {
      "text/latex": [
       "$\\displaystyle \\left(\\frac{K_{diff} \\chi^{2} \\rho_{\\chi}{\\left(t \\right)}}{2} + \\frac{d}{d t} \\rho_{\\chi}{\\left(t \\right)}\\right) e^{\\frac{K_{diff} \\chi^{2} t}{2}}$"
      ],
      "text/plain": [
       "(K_diff*chi**2*rho_chi(t)/2 + Derivative(rho_chi(t), t))*exp(K_diff*chi**2*t/2)"
      ]
     },
     "execution_count": 9,
     "metadata": {},
     "output_type": "execute_result"
    }
   ],
   "source": [
    "import sympy as sp\n",
    "\n",
    "# Define symbols\n",
    "t, chi, K_diff = sp.symbols('t chi K_diff', real=True)\n",
    "L_chi = sp.Function('L_chi')\n",
    "L = sp.Function('L')  # Original Liouvillian operator\n",
    "H = sp.Function('H')  # Hamiltonian operator\n",
    "rho_chi = sp.Function('rho_chi')(t)  # Density matrix with counting field\n",
    "rho_tilde_chi = sp.Function('rho_tilde_chi')(t)  # Tilted density matrix\n",
    "\n",
    "# Define the expression for rho_tilde_chi in terms of rho_chi\n",
    "rho_tilde_chi_expr = sp.exp(chi**2 / 2 * K_diff * t) * rho_chi\n",
    "\n",
    "# Differentiate rho_tilde_chi with respect to time\n",
    "rho_tilde_chi_dot = sp.diff(rho_tilde_chi_expr, t)\n",
    "\n",
    "# Define the modified Liouvillian L_chi\n",
    "L_chi_expr = L(rho_chi) + sp.I * chi * H(rho_chi) - (chi**2 / 2) * K_diff * rho_chi\n",
    "\n",
    "# Substitute d(rho_chi)/dt = L_chi * rho_chi\n",
    "rho_chi_dot = sp.Function('rho_chi_dot')(t)\n",
    "substitute_rho_chi_dot = L_chi_expr.subs(rho_chi, rho_chi_dot)\n",
    "\n",
    "# Substitute rho_chi_dot expression into rho_tilde_chi_dot\n",
    "final_expression = rho_tilde_chi_dot.subs(rho_chi_dot, substitute_rho_chi_dot)\n",
    "\n",
    "# Simplify the final result\n",
    "final_result = sp.simplify(final_expression)\n",
    "\n",
    "# Display final result\n",
    "final_result"
   ]
  },
  {
   "cell_type": "code",
   "execution_count": 10,
   "metadata": {},
   "outputs": [
    {
     "data": {
      "text/latex": [
       "$\\displaystyle \\frac{K_{diff} \\chi^{2} \\rho_{\\chi}{\\left(t \\right)} e^{\\frac{K_{diff} \\chi^{2} t}{2}}}{2} + L_{\\chi}{\\left(\\rho_{\\chi}{\\left(t \\right)} \\right)} e^{\\frac{K_{diff} \\chi^{2} t}{2}}$"
      ],
      "text/plain": [
       "K_diff*chi**2*rho_chi(t)*exp(K_diff*chi**2*t/2)/2 + L_chi(rho_chi(t))*exp(K_diff*chi**2*t/2)"
      ]
     },
     "execution_count": 10,
     "metadata": {},
     "output_type": "execute_result"
    }
   ],
   "source": [
    "new_rho_tilde = rho_tilde_chi_dot.subs(sp.diff(rho_chi), L_chi(rho_chi))\n",
    "new_rho_tilde"
   ]
  },
  {
   "cell_type": "code",
   "execution_count": 11,
   "metadata": {},
   "outputs": [
    {
     "data": {
      "text/latex": [
       "$\\displaystyle \\left(i \\chi H{\\left(\\rho_{\\chi}{\\left(t \\right)} \\right)} + L{\\left(\\rho_{\\chi}{\\left(t \\right)} \\right)}\\right) e^{\\frac{K_{diff} \\chi^{2} t}{2}}$"
      ],
      "text/plain": [
       "(I*chi*H(rho_chi(t)) + L(rho_chi(t)))*exp(K_diff*chi**2*t/2)"
      ]
     },
     "execution_count": 11,
     "metadata": {},
     "output_type": "execute_result"
    }
   ],
   "source": [
    "new_rho_tilde.subs(L_chi(rho_chi), L_chi_expr).simplify()"
   ]
  },
  {
   "cell_type": "markdown",
   "metadata": {},
   "source": [
    "### Example A"
   ]
  },
  {
   "cell_type": "code",
   "execution_count": 34,
   "metadata": {},
   "outputs": [
    {
     "data": {
      "text/latex": [
       "Quantum object: dims = [[2], [2]], shape = (2, 2), type = oper, isherm = True\\begin{equation*}\\left(\\begin{array}{*{11}c}0.430 & -0.201j\\\\0.201j & 0.570\\\\\\end{array}\\right)\\end{equation*}"
      ],
      "text/plain": [
       "Quantum object: dims = [[2], [2]], shape = (2, 2), type = oper, isherm = True\n",
       "Qobj data =\n",
       "[[0.42971888+0.j         0.        -0.20080321j]\n",
       " [0.        +0.20080321j 0.57028112+0.j        ]]"
      ]
     },
     "execution_count": 34,
     "metadata": {},
     "output_type": "execute_result"
    }
   ],
   "source": [
    "# Define the Hamiltonian\n",
    "def Ham(Δ, Ω):\n",
    "    return Δ*0.5*qt.sigmaz() + Ω*qt.sigmax()\n",
    "\n",
    "Δ = 0\n",
    "Nb = 0.2\n",
    "Ω = γt = 1.0\n",
    "H = Ham(Δ, Ω)\n",
    "c_ops = [np.sqrt(γt*(Nb + 1))*qt.sigmam(), np.sqrt(γt*Nb)*qt.sigmap()]\n",
    "\n",
    "# Compute steadystate\n",
    "rhoss = qt.steadystate(H, c_ops)\n",
    "\n",
    "def tilted_liouvillian(H, L_list, chi, v_list):\n",
    "    \"\"\"\n",
    "    Constructs a tilted Liouvillian for a system with multiple jump operators and corresponding v values.\n",
    "\n",
    "    Parameters:\n",
    "    H : Qobj\n",
    "        The Hamiltonian of the system.\n",
    "    L_list : list of Qobj\n",
    "        A list of jump operators.\n",
    "    chi : float\n",
    "        The tilt parameter.\n",
    "    v_list : list of float\n",
    "        A list of parameters that couple with chi, one for each jump operator.\n",
    "\n",
    "    Returns:\n",
    "    Qobj\n",
    "        The tilted Liouvillian superoperator.\n",
    "    \"\"\"\n",
    "    # Check that the number of jump operators matches the number of v values\n",
    "    if len(L_list) != len(v_list):\n",
    "        raise ValueError(\"The number of jump operators must match the number of v values.\")\n",
    "    \n",
    "    # Hamiltonian part remains the same\n",
    "    H_vec = qt.spre(H) - qt.spost(H)\n",
    "    \n",
    "    # Initialize the dissipative part\n",
    "    L_vec_total = 0\n",
    "    \n",
    "    # Loop through all jump operators and their corresponding v values\n",
    "    for L, v in zip(L_list, v_list):\n",
    "        L_vec = np.exp(1j * chi * v) * qt.to_super(L) - 0.5 * (qt.spre(L.dag() * L) + qt.spost(L.dag() * L))\n",
    "        L_vec_total += L_vec\n",
    "    \n",
    "    # Combine Hamiltonian and dissipative parts\n",
    "    return -1j * H_vec + L_vec_total\n",
    "\n",
    "rhoss"
   ]
  },
  {
   "cell_type": "code",
   "execution_count": 36,
   "metadata": {},
   "outputs": [],
   "source": [
    "# Compute vectorised density operator\n",
    "rhovec = qt.operator_to_vector(rhoss)\n",
    "\n",
    "# Create chi space\n",
    "v = [-1, 1]\n",
    "chi = np.linspace(-np.pi, np.pi, 1000)\n",
    "d_chi = χ[1]-χ[0]\n",
    "\n",
    "t = [5, 15, 30, 50]\n",
    "\n",
    "# Compute tilted Liouvillians\n",
    "liouvs = [tilted_liouvillian(H, c_ops, i, v) for i in chi]\n",
    "rho_chi = [[qt.vector_to_operator((liou * ti).expm()*rhovec) for liou in liouvs] for ti in t]\n",
    "\n",
    "# Take trace of all rhochis\n",
    "pchis = np.array([[rho.tr() for rho in rhoix] for rhoix in rho_chi])\n",
    "# tilted_liouvillian(H, c_ops, chi[6], v)"
   ]
  },
  {
   "cell_type": "code",
   "execution_count": 37,
   "metadata": {},
   "outputs": [
    {
     "name": "stdout",
     "output_type": "stream",
     "text": [
      "Shape of pchis: (4, 1000)\n",
      "Shape of chi: (1000,)\n"
     ]
    }
   ],
   "source": [
    "print(\"Shape of pchis:\", pchis.shape)\n",
    "print(\"Shape of chi:\", chi.shape)"
   ]
  },
  {
   "cell_type": "code",
   "execution_count": 28,
   "metadata": {},
   "outputs": [
    {
     "data": {
      "text/plain": [
       "(61,)"
      ]
     },
     "execution_count": 28,
     "metadata": {},
     "output_type": "execute_result"
    }
   ],
   "source": [
    "#Compute n vals\n",
    "nmax = 10\n",
    "n = np.arange(-nmax-20, nmax+20 + 1)\n",
    "# Peform Fourier transform\n",
    "def prob(n): \n",
    "    return np.abs([trapezoid(np.exp(-1j*ni*χ)*pchis, χ, dx=dχ, axis=1) for ni in n])/(2*np.pi)\n",
    "\n",
    "P = prob(np.arange(-nmax, nmax + 1))\n",
    "n.shape"
   ]
  },
  {
   "cell_type": "code",
   "execution_count": 29,
   "metadata": {},
   "outputs": [
    {
     "data": {
      "text/plain": [
       "(61,)"
      ]
     },
     "execution_count": 29,
     "metadata": {},
     "output_type": "execute_result"
    }
   ],
   "source": [
    "while P[0, 1] + P[-1, 1] > 1e-13:\n",
    "        P = np.vstack((prob(np.arange(-nmax - 10, -nmax)), P, prob(np.arange(nmax + 1, nmax + 11))))\n",
    "        nmax += 10\n",
    "np.around(P, decimals=10)\n",
    "P.T[0].shape"
   ]
  },
  {
   "cell_type": "code",
   "execution_count": 30,
   "metadata": {},
   "outputs": [
    {
     "data": {
      "image/png": "[encoded data removed]",
      "text/plain": [
       "<Figure size 1000x500 with 1 Axes>"
      ]
     },
     "metadata": {},
     "output_type": "display_data"
    }
   ],
   "source": [
    "fig = plt.figure(figsize=(10, 5))\n",
    "\n",
    "plt.bar(n, P.T[0], width = 1, alpha=0.5, edgecolor = 'k')\n",
    "plt.bar(n, P.T[1], width = 1, alpha=0.5, edgecolor = 'k')\n",
    "plt.bar(n, P.T[2], width = 1, alpha=0.5, edgecolor = 'k')\n",
    "plt.bar(n, P.T[3], width = 1, alpha=0.5, edgecolor = 'k')\n",
    "\n",
    "plt.xlim([-35, 10])\n",
    "plt.ylim([0, 0.30])\n",
    "plt.yticks(np.arange(0, 0.30, 0.05))\n",
    "plt.text(-5, 0.26, r'$\\gamma t=5$')\n",
    "plt.text(-10, 0.17, r'$\\gamma t=15$')\n",
    "plt.text(-15, 0.12, r'$\\gamma t=20$')\n",
    "plt.text(-23, 0.09, r'$\\gamma t=30$')\n",
    "plt.grid()\n",
    "plt.xlabel(r'$n$')\n",
    "plt.ylabel(r'$P(n,t)$')\n",
    "plt.show()"
   ]
  },
  {
   "cell_type": "code",
   "execution_count": 105,
   "metadata": {},
   "outputs": [
    {
     "name": "stdout",
     "output_type": "stream",
     "text": [
      "Quantum object: dims = [[[2], [2]], [[2], [2]]], shape = (4, 4), type = super, isherm = False\n",
      "Qobj data =\n",
      "[[-19.7392088 +17.68274812j   0.         -1.j\n",
      "    0.         +1.j           0.         +0.j        ]\n",
      " [  0.         -1.j         -25.51340154 +0.j\n",
      "    0.         +0.j           0.         +1.j        ]\n",
      " [  0.         +1.j           0.         +0.j\n",
      "  -21.96501607 +0.j           0.         -1.j        ]\n",
      " [  0.         +0.j           0.         +1.j\n",
      "    0.         -1.j         -19.7392088 -17.68274812j]]\n"
     ]
    }
   ],
   "source": [
    "from math import sqrt\n",
    "\n",
    "ts = [0.1, 0.2, 0.5, 1.0, 2.0, 3.0, 5.0]\n",
    "delta = 0.0\n",
    "omega = 1.0\n",
    "\n",
    "H = delta*0.5*qt.sigmaz() + qt.sigmax()\n",
    "\n",
    "ks = [2.0]\n",
    "v = [2]\n",
    "\n",
    "# # Rough\n",
    "# phi_k, chi = 2, 3\n",
    "\n",
    "c_ops = [sqrt(k)*qt.sigmaz() for k in ks]\n",
    "\n",
    "def tilted_liouv_diff(H, L_list, chi, v_list, phi_k=0.1):\n",
    "\n",
    "    # # # Check that the number of jump operators matches the number of v values\n",
    "    if len(c_ops) != len(v_list):\n",
    "        raise ValueError(\"The number of jump operators must match the number of v values.\")\n",
    "    \n",
    "    # Hamiltonian part remains the same\n",
    "    H_vec = qt.spre(H) - qt.spost(H)\n",
    "\n",
    "    # Initialize the dissipative part\n",
    "    L_vec_total = 0\n",
    "\n",
    "    for L, v in zip(L_list, v_list):\n",
    "        L_vec = qt.to_super(L) - 0.5 * (qt.spre(L.dag() * L) + qt.spost(L.dag() * L)) + 1j*chi*v*(np.exp(-1j*phi_k)*qt.spre(L) + np.exp(1j*phi_k)*qt.spost(L.dag())) - chi**2 * 0.5 * v**2 * qt.to_super(qt.qeye(L.shape[0]))\n",
    "        L_vec_total += L_vec\n",
    "\n",
    "    return -1j * H_vec + L_vec_total\n",
    "\n",
    "print(tilted_liouv_diff(H, c_ops, np.pi, v))\n"
   ]
  },
  {
   "cell_type": "code",
   "execution_count": 106,
   "metadata": {},
   "outputs": [],
   "source": [
    "# Compute steadystate\n",
    "rhoss = qt.steadystate(H, c_ops)\n",
    "\n",
    "# Compute vectorised density operator\n",
    "rhovec = qt.operator_to_vector(rhoss)\n",
    "\n",
    "# Create chi space\n",
    "chi = np.linspace(-np.pi, np.pi, 1000)\n",
    "d_chi = chi[1]-chi[0]\n",
    "\n",
    "# Compute tilted Liouvillians\n",
    "liouvs = [tilted_liouv_diff(H, c_ops, i, v) for i in chi]\n",
    "rho_chi = [[qt.vector_to_operator((liou * ti).expm()*rhovec) for liou in liouvs] for ti in ts]\n",
    "\n",
    "# Take trace of all rhochis\n",
    "pchis = np.array([[rho.tr() for rho in rhoix] for rhoix in rho_chi])\n",
    "# tilted_liouvillian(H, c_ops, χ[6], ν)"
   ]
  },
  {
   "cell_type": "code",
   "execution_count": 107,
   "metadata": {},
   "outputs": [
    {
     "name": "stdout",
     "output_type": "stream",
     "text": [
      "Shape of pchis: (7, 1000)\n",
      "Shape of chi: (1000,)\n"
     ]
    }
   ],
   "source": [
    "print(\"Shape of pchis:\", pchis.shape)\n",
    "print(\"Shape of chi:\", chi.shape)"
   ]
  },
  {
   "cell_type": "code",
   "execution_count": 108,
   "metadata": {},
   "outputs": [
    {
     "data": {
      "text/plain": [
       "(1640, 7)"
      ]
     },
     "execution_count": 108,
     "metadata": {},
     "output_type": "execute_result"
    }
   ],
   "source": [
    "#Compute n vals\n",
    "nmax = 20\n",
    "# n = np.arange(-nmax-20, nmax+20 + 1)\n",
    "# Peform Fourier transform\n",
    "def prob(n): \n",
    "    return np.abs([trapezoid(np.exp(-1j*ni*chi)*pchis, chi, dx=d_chi, axis=1) for ni in n])/(2*np.pi)\n",
    "\n",
    "n = np.arange(-nmax, nmax + 1, 0.025)\n",
    "P = prob(n)\n",
    "P.shape"
   ]
  },
  {
   "cell_type": "code",
   "execution_count": 109,
   "metadata": {},
   "outputs": [
    {
     "name": "stdout",
     "output_type": "stream",
     "text": [
      "[[8.17639980e-07 1.01372760e-06 4.15405793e-09 ... 1.06015436e-05\n",
      "  4.47848255e-04 4.31501175e-04]\n",
      " [7.60327334e-09 1.53801497e-06 5.46438821e-09 ... 1.08896988e-05\n",
      "  4.50342641e-04 4.32163363e-04]\n",
      " [8.34947448e-07 2.05406810e-06 6.74396120e-09 ... 1.11847999e-05\n",
      "  4.52828023e-04 4.32825374e-04]\n",
      " ...\n",
      " [1.61153480e-06 2.39408499e-06 7.42252900e-09 ... 3.71756054e-06\n",
      "  3.51775116e-04 4.07056905e-04]\n",
      " [8.28293401e-07 1.91244723e-06 6.23464887e-09 ... 3.60831565e-06\n",
      "  3.49144141e-04 4.06403078e-04]\n",
      " [4.18956387e-08 1.42012322e-06 5.01090232e-09 ... 3.50200393e-06\n",
      "  3.46514801e-04 4.05749908e-04]]\n"
     ]
    }
   ],
   "source": [
    "import numpy as np\n",
    "\n",
    "# Assuming P is a NumPy array of shape (1640, 7)\n",
    "# Step 1: Calculate the sum of the second column\n",
    "for i in range(P.shape[1]):\n",
    "    norm = np.sum(P[:, i])\n",
    "\n",
    "    # Step 2: Normalize the second column\n",
    "    if norm != 0:  # Avoid division by zero\n",
    "        P[:, i] /= norm\n",
    "    else:\n",
    "        print(\"Normalization factor is zero. Skipping normalization.\")\n",
    "        break\n",
    "print(P)\n"
   ]
  },
  {
   "cell_type": "code",
   "execution_count": 110,
   "metadata": {},
   "outputs": [],
   "source": [
    "# while P[0, 1] + P[-1, 1] > 1e-10:\n",
    "#         P = np.vstack((prob(np.arange(-nmax - 10, -nmax)), P, prob(np.arange(nmax + 1, nmax + 11))))\n",
    "#         nmax += 10\n",
    "# np.around(P, decimals=10)\n",
    "# P.T[0].shape"
   ]
  },
  {
   "cell_type": "code",
   "execution_count": 111,
   "metadata": {},
   "outputs": [
    {
     "data": {
      "image/png": "[encoded data removed]",
      "text/plain": [
       "<Figure size 1000x500 with 1 Axes>"
      ]
     },
     "metadata": {},
     "output_type": "display_data"
    }
   ],
   "source": [
    "fig = plt.figure(figsize=(10, 5))\n",
    "\n",
    "plt.plot(n, P.T[0]) #width = 1, alpha=0.5, edgecolor = 'k')\n",
    "plt.plot(n, P.T[1]) #width = 1, alpha=0.5, edgecolor = 'k')\n",
    "plt.plot(n, P.T[2]) #width = 1, alpha=0.5, edgecolor = 'k')\n",
    "plt.plot(n, P.T[3]) #width = 1, alpha=0.5, edgecolor = 'k')\n",
    "plt.plot(n, P.T[4])\n",
    "plt.plot(n, P.T[5])\n",
    "plt.plot(n, P.T[6])\n",
    "\n",
    "\n",
    "# plt.xlim([-35, 10])\n",
    "# plt.ylim([0, 0.30])\n",
    "# plt.yticks(np.arange(0, 0.015, 0.002))\n",
    "# plt.xticks(np.arange(-20, 20, 2))\n",
    "# plt.text(-5, 0.26, r'$\\gamma t=5$')\n",
    "# plt.text(-10, 0.17, r'$\\gamma t=15$')\n",
    "# plt.text(-15, 0.12, r'$\\gamma t=20$')\n",
    "# plt.text(-23, 0.09, r'$\\gamma t=30$')\n",
    "\n",
    "plt.grid()\n",
    "plt.xlabel(r'$n$')\n",
    "plt.ylabel(r'$P(n,t)$')\n",
    "# plt.legend()\n",
    "plt.show()"
   ]
  },
  {
   "cell_type": "code",
   "execution_count": null,
   "metadata": {},
   "outputs": [],
   "source": []
  }
 ],
 "metadata": {
  "kernelspec": {
   "display_name": "env1",
   "language": "python",
   "name": "python3"
  },
  "language_info": {
   "codemirror_mode": {
    "name": "ipython",
    "version": 3
   },
   "file_extension": ".py",
   "mimetype": "text/x-python",
   "name": "python",
   "nbconvert_exporter": "python",
   "pygments_lexer": "ipython3",
   "version": "3.8.20"
  }
 },
 "nbformat": 4,
 "nbformat_minor": 4
}
